{
 "cells": [
  {
   "cell_type": "markdown",
   "id": "9f498e92",
   "metadata": {},
   "source": [
    "# 数据绘图要点5-误差线的问题\n",
    "\n",
    "误差线给出了测量精确度的一般概念，真实（无误差）值可能与报告值相差多远。如果条形图上显示的值是聚合的结果（如多个数据点的平均值），您可能需要显示误差线。但我们必须要谨慎使用误差线，具体原因将在后续给出。"
   ]
  },
  {
   "cell_type": "markdown",
   "id": "82931290",
   "metadata": {},
   "source": [
    "## 误差线的绘制\n",
    "\n",
    "在下图中，报告了5个group。条形高度代表它们的平均值。黑色误差线提供有关单个观测值如何分散在平均值周围的信息。例如，似乎groupB中的测量结果比groupE中的更精确。"
   ]
  },
  {
   "cell_type": "code",
   "execution_count": 7,
   "id": "edc404bf",
   "metadata": {},
   "outputs": [
    {
     "data": {
      "text/html": [
       "<table class=\"dataframe\">\n",
       "<caption>A data.frame: 5 × 3</caption>\n",
       "<thead>\n",
       "\t<tr><th></th><th scope=col>name</th><th scope=col>value</th><th scope=col>sd</th></tr>\n",
       "\t<tr><th></th><th scope=col>&lt;fct&gt;</th><th scope=col>&lt;int&gt;</th><th scope=col>&lt;dbl&gt;</th></tr>\n",
       "</thead>\n",
       "<tbody>\n",
       "\t<tr><th scope=row>1</th><td>a</td><td>10</td><td>1.0</td></tr>\n",
       "\t<tr><th scope=row>2</th><td>b</td><td> 5</td><td>0.2</td></tr>\n",
       "\t<tr><th scope=row>3</th><td>c</td><td>12</td><td>3.0</td></tr>\n",
       "\t<tr><th scope=row>4</th><td>d</td><td> 9</td><td>2.0</td></tr>\n",
       "\t<tr><th scope=row>5</th><td>e</td><td> 7</td><td>4.0</td></tr>\n",
       "</tbody>\n",
       "</table>\n"
      ],
      "text/latex": [
       "A data.frame: 5 × 3\n",
       "\\begin{tabular}{r|lll}\n",
       "  & name & value & sd\\\\\n",
       "  & <fct> & <int> & <dbl>\\\\\n",
       "\\hline\n",
       "\t1 & a & 10 & 1.0\\\\\n",
       "\t2 & b &  5 & 0.2\\\\\n",
       "\t3 & c & 12 & 3.0\\\\\n",
       "\t4 & d &  9 & 2.0\\\\\n",
       "\t5 & e &  7 & 4.0\\\\\n",
       "\\end{tabular}\n"
      ],
      "text/markdown": [
       "\n",
       "A data.frame: 5 × 3\n",
       "\n",
       "| <!--/--> | name &lt;fct&gt; | value &lt;int&gt; | sd &lt;dbl&gt; |\n",
       "|---|---|---|---|\n",
       "| 1 | a | 10 | 1.0 |\n",
       "| 2 | b |  5 | 0.2 |\n",
       "| 3 | c | 12 | 3.0 |\n",
       "| 4 | d |  9 | 2.0 |\n",
       "| 5 | e |  7 | 4.0 |\n",
       "\n"
      ],
      "text/plain": [
       "  name value sd \n",
       "1 a    10    1.0\n",
       "2 b     5    0.2\n",
       "3 c    12    3.0\n",
       "4 d     9    2.0\n",
       "5 e     7    4.0"
      ]
     },
     "metadata": {},
     "output_type": "display_data"
    }
   ],
   "source": [
    "# 加载库\n",
    "library(tidyverse)\n",
    "library(hrbrthemes)\n",
    "library(viridis)\n",
    "library(patchwork)\n",
    "\n",
    "# 创建数据\n",
    "data <- data.frame(\n",
    "    # 创建小写数字\n",
    "    name=letters[1:5],\n",
    "    value=sample(seq(4,15),5),\n",
    "    sd=c(1,0.2,3,2,4)\n",
    ")\n",
    "\n",
    "# 展示数据\n",
    "head(data)"
   ]
  },
  {
   "cell_type": "code",
   "execution_count": 8,
   "id": "0c41d90a",
   "metadata": {},
   "outputs": [
    {
     "data": {
      "image/png": "[encoded data removed]",
      "text/plain": [
       "plot without title"
      ]
     },
     "metadata": {
      "image/png": {
       "height": 420,
       "width": 420
      }
     },
     "output_type": "display_data"
    }
   ],
   "source": [
    "# 绘图\n",
    "ggplot(data) +\n",
    "# 绘制条形\n",
    "geom_bar( aes(x=name, y=value), stat=\"identity\", fill=\"#69b3a2\", alpha=0.7, width=0.5) +\n",
    "# 绘制误差线\n",
    "geom_errorbar( aes(x=name, ymin=value-sd, ymax=value+sd), width=0.4, colour=\"black\", alpha=0.9, size=1) +\n",
    "theme(\n",
    "  legend.position=\"none\",\n",
    "  plot.title = element_text(size=11)\n",
    ") +\n",
    "ggtitle(\"A barplot with error bar\") +\n",
    "xlab(\"\")"
   ]
  },
  {
   "cell_type": "markdown",
   "id": "9504c6d1",
   "metadata": {},
   "source": [
    "## 误差线中的问题\n",
    "### 误差线隐藏信息\n",
    "\n",
    "误差线可能会隐藏很多信息。如下图所示，这是PLOS Biology期刊一篇论文[Beyond Bar and Line Graphs: Time for a New Data Presentation Paradigm](http://journals.plos.org/plosbiology/article?id=10.1371/journal.pbio.1002128)中的图。它说明完整的数据可能暗示与汇总统计数据不同的结论。其中A图是一张用于汇总数据带有误差线的条形图。但是从A图中，我们并不能得到A图中两个数据组明确的数据分布信息，因为A图可能对应不同数据组分布信息。A可能会对应B，C，D，E四张图，而这四张图表示了完全不同的数据分布信息。B图表示两个数据组具有相同类型的数据分布，C图表示第二个数据组有异常值，D图表示两组数据分布不同，E图表示两组数据样本数不同。\n",
    "\n",
    "![](image/img5_1.png)\n",
    "\n",
    "\n",
    "因此，带有误差线的相同条形图实际上可以讲述非常不同的故事，对读者来说这些数据是隐藏的。所以尽可能显示个人数据信息。"
   ]
  },
  {
   "cell_type": "markdown",
   "id": "7f9d067a",
   "metadata": {},
   "source": [
    "### 误差线的计算方式\n",
    "\n",
    "误差线的第二个问题是误差线有多种计算方式，并且并不总是清楚显示的是哪一个。误差线通常使用三种不同的计算方式，选择不同的计算方式有时给出非常不同的结果。下面是它们的定义以及如何在R上计算。\n",
    "\n",
    "**标准偏差(SD)**\n",
    "\n",
    "表示变量的分散量。计算公式为方差的平方根\n",
    "\n",
    "```\n",
    "# 计算方差\n",
    "sd <- sd(vec)\n",
    "# 计算平方根\n",
    "sd <- sqrt(var(vec))\n",
    "```\n",
    "\n",
    "**标准误差(SE)** \n",
    "\n",
    "表示变量均值的标准偏差，计算方法为SD除以样本大小的平方根。通过计算方法，SE小于SD。对于非常大的样本量，SE趋向于0。\n",
    "\n",
    "```\n",
    "se = sd(vec) / sqrt(length(vec))\n",
    "```\n",
    "\n",
    "**置信区间(CI)**\n",
    "\n",
    "表示使某个值存在于其内的特定概率。它计算为t*SE，其中t值是t检验在特定显著水平alpha下的统计量值。其值在具有较大的样本量时通常四舍五入到1.96。但是，如果样本量很大或分布不正态，则最好使用bootstrap方法计算CI。\n",
    "\n",
    "```\n",
    "alpha=0.05\n",
    "t=qt((1-alpha)/2 + .5, length(vec)-1)   \n",
    "# 数据量很大是取为1.96\n",
    "# t = 1.96\n",
    "CI=t*se\n",
    "```"
   ]
  },
  {
   "cell_type": "markdown",
   "id": "41ad1c69",
   "metadata": {},
   "source": [
    "以上3个指标在著名的Iris数据集上应用时。三种鸢尾花的平均萼片长度和平均长度用误差线表示的结果完全不同。\n",
    "\n"
   ]
  },
  {
   "cell_type": "code",
   "execution_count": 9,
   "id": "61a55f3b",
   "metadata": {},
   "outputs": [
    {
     "data": {
      "text/html": [
       "<table class=\"dataframe\">\n",
       "<caption>A data.frame: 6 × 2</caption>\n",
       "<thead>\n",
       "\t<tr><th></th><th scope=col>Species</th><th scope=col>Sepal.Length</th></tr>\n",
       "\t<tr><th></th><th scope=col>&lt;fct&gt;</th><th scope=col>&lt;dbl&gt;</th></tr>\n",
       "</thead>\n",
       "<tbody>\n",
       "\t<tr><th scope=row>1</th><td>setosa</td><td>5.1</td></tr>\n",
       "\t<tr><th scope=row>2</th><td>setosa</td><td>4.9</td></tr>\n",
       "\t<tr><th scope=row>3</th><td>setosa</td><td>4.7</td></tr>\n",
       "\t<tr><th scope=row>4</th><td>setosa</td><td>4.6</td></tr>\n",
       "\t<tr><th scope=row>5</th><td>setosa</td><td>5.0</td></tr>\n",
       "\t<tr><th scope=row>6</th><td>setosa</td><td>5.4</td></tr>\n",
       "</tbody>\n",
       "</table>\n"
      ],
      "text/latex": [
       "A data.frame: 6 × 2\n",
       "\\begin{tabular}{r|ll}\n",
       "  & Species & Sepal.Length\\\\\n",
       "  & <fct> & <dbl>\\\\\n",
       "\\hline\n",
       "\t1 & setosa & 5.1\\\\\n",
       "\t2 & setosa & 4.9\\\\\n",
       "\t3 & setosa & 4.7\\\\\n",
       "\t4 & setosa & 4.6\\\\\n",
       "\t5 & setosa & 5.0\\\\\n",
       "\t6 & setosa & 5.4\\\\\n",
       "\\end{tabular}\n"
      ],
      "text/markdown": [
       "\n",
       "A data.frame: 6 × 2\n",
       "\n",
       "| <!--/--> | Species &lt;fct&gt; | Sepal.Length &lt;dbl&gt; |\n",
       "|---|---|---|\n",
       "| 1 | setosa | 5.1 |\n",
       "| 2 | setosa | 4.9 |\n",
       "| 3 | setosa | 4.7 |\n",
       "| 4 | setosa | 4.6 |\n",
       "| 5 | setosa | 5.0 |\n",
       "| 6 | setosa | 5.4 |\n",
       "\n"
      ],
      "text/plain": [
       "  Species Sepal.Length\n",
       "1 setosa  5.1         \n",
       "2 setosa  4.9         \n",
       "3 setosa  4.7         \n",
       "4 setosa  4.6         \n",
       "5 setosa  5.0         \n",
       "6 setosa  5.4         "
      ]
     },
     "metadata": {},
     "output_type": "display_data"
    }
   ],
   "source": [
    "# 读取数据\n",
    "data <- iris %>% select(Species, Sepal.Length) \n",
    "head(data)"
   ]
  },
  {
   "cell_type": "code",
   "execution_count": 10,
   "id": "ec5fdd62",
   "metadata": {},
   "outputs": [],
   "source": [
    "# 分别计算标准偏差，标准误差，置信区间\n",
    "my_sum <- data %>%\n",
    "  group_by(Species) %>%\n",
    "  summarise( \n",
    "    n=n(),\n",
    "    mean=mean(Sepal.Length),\n",
    "    sd=sd(Sepal.Length)\n",
    "  ) %>%\n",
    "  mutate( se=sd/sqrt(n))  %>%\n",
    "  mutate( ic=se * qt((1-0.05)/2 + .5, n-1))"
   ]
  },
  {
   "cell_type": "code",
   "execution_count": 11,
   "id": "a8766d67",
   "metadata": {},
   "outputs": [
    {
     "data": {
      "image/png": "[encoded data removed]",
      "text/plain": [
       "plot without title"
      ]
     },
     "metadata": {
      "image/png": {
       "height": 420,
       "width": 420
      }
     },
     "output_type": "display_data"
    }
   ],
   "source": [
    "\n",
    "# 标准偏差\n",
    "p1 <- ggplot(my_sum) +\n",
    "  geom_bar( aes(x=Species, y=mean), stat=\"identity\", fill=\"#69b3a2\", alpha=0.7, width=0.6) + \n",
    "  geom_errorbar( aes(x=Species, ymin=mean-sd, ymax=mean+sd), width=0.4, colour=\"black\", alpha=0.9, size=1) +\n",
    "  ggtitle(\"standard deviation\") +\n",
    "  theme(\n",
    "    plot.title = element_text(size=6)\n",
    "  ) +\n",
    "  xlab(\"\") +\n",
    "  ylab(\"Sepal Length\")\n",
    " \n",
    "# 标准误差\n",
    "p2 <- ggplot(my_sum) +\n",
    "  geom_bar( aes(x=Species, y=mean), stat=\"identity\", fill=\"#69b3a2\", alpha=0.7, width=0.6) + \n",
    "  geom_errorbar( aes(x=Species, ymin=mean-se, ymax=mean+se),width=0.4, colour=\"black\", alpha=0.9, size=1) +\n",
    "  ggtitle(\"standard error\") +\n",
    "  theme(\n",
    "    plot.title = element_text(size=6)\n",
    "  ) +\n",
    "  xlab(\"\") +\n",
    "  ylab(\"Sepal Length\")\n",
    " \n",
    "# 置信区间\n",
    "p3 <- ggplot(my_sum) +\n",
    "  geom_bar( aes(x=Species, y=mean), stat=\"identity\", fill=\"#69b3a2\", alpha=0.7, width=0.6) + \n",
    "  geom_errorbar( aes(x=Species, ymin=mean-ic, ymax=mean+ic), width=0.4, colour=\"black\", alpha=0.9, size=1) +\n",
    "  ggtitle(\"confidence interval\") +\n",
    "  theme(\n",
    "    plot.title = element_text(size=6)\n",
    "  ) +\n",
    "  xlab(\"\") +\n",
    "  ylab(\"Sepal Length\")\n",
    "\n",
    "p1 + p2 + p3"
   ]
  },
  {
   "cell_type": "markdown",
   "id": "e3765f3f",
   "metadata": {},
   "source": [
    "很明显，这 3 个指标报告了非常不同的可视化和结论。所以应该始终指定用于误差线的指标。"
   ]
  },
  {
   "cell_type": "markdown",
   "id": "c64cb91a",
   "metadata": {},
   "source": [
    "### 解决方法\n",
    "\n",
    "最好尽可能避免误差线。当然，如果您只有汇总统计数据，这是不可能的。但是，如果您知道各个数据点，请显示它们。有几种解决方法是可能的。带有散点信息的箱形图适用于相对少量的数据。当数据量较多时，使用小提琴数据图是另一种办法。\n",
    "\n"
   ]
  },
  {
   "cell_type": "code",
   "execution_count": 12,
   "id": "ea46d3f0",
   "metadata": {},
   "outputs": [
    {
     "data": {
      "image/png": "[encoded data removed]",
      "text/plain": [
       "plot without title"
      ]
     },
     "metadata": {
      "image/png": {
       "height": 420,
       "width": 420
      }
     },
     "output_type": "display_data"
    }
   ],
   "source": [
    "ggplot(data,aes(x=Species, y=Sepal.Length)) +\n",
    "# 绘图,notch为TRUE表示绘制小提琴图，否则为绘制箱形图\n",
    "geom_boxplot( fill=\"#69b3a2\", notch=T) +\n",
    "# 绘制数据点信息\n",
    "geom_jitter( size=0.9, color=\"orange\", width=0.1) +\n",
    "ggtitle(\"confidence interval\") +\n",
    "theme(\n",
    "  plot.title = element_text(size=6)\n",
    ") +\n",
    "xlab(\"\") +\n",
    "ylab(\"Sepal Length\")"
   ]
  },
  {
   "cell_type": "markdown",
   "id": "e591c82e",
   "metadata": {},
   "source": [
    "## 参考\n",
    "\n",
    "+ [Beyond Bar and Line Graphs: Time for a New Data Presentation Paradigm](http://journals.plos.org/plosbiology/article?id=10.1371/journal.pbio.1002128)\n",
    "+ [THE ISSUE WITH ERROR BARS](https://www.data-to-viz.com/caveat/error_bar.html)"
   ]
  }
 ],
 "metadata": {
  "kernelspec": {
   "display_name": "R",
   "language": "R",
   "name": "ir"
  },
  "language_info": {
   "codemirror_mode": "r",
   "file_extension": ".r",
   "mimetype": "text/x-r-source",
   "name": "R",
   "pygments_lexer": "r",
   "version": "3.6.0"
  }
 },
 "nbformat": 4,
 "nbformat_minor": 5
}
