{
 "cells": [
  {
   "cell_type": "markdown",
   "id": "8bafdde3",
   "metadata": {},
   "source": [
    "# 数据绘图要点1-注重数据排序\n",
    "默认情况下，大多数数据可视化工具将使用字母顺序或使用输入表中的出现顺序对分类变量组进行排序。当显示多个实体项的值时，对它们进行排序会使得图表更具洞察力。"
   ]
  },
  {
   "cell_type": "markdown",
   "id": "979ae494",
   "metadata": {},
   "source": [
    "## 实例\n",
    "\n",
    "### 无序棒棒糖图\n",
    "\n",
    "让我们从一个无序棒棒糖图开始，下面代码展示了一些国家出口的某一重要物品的数量。这里每一行代表一个国家，X 轴显示2017 年销售的重要物品数量。默认情况下，国家按字母顺序排列。"
   ]
  },
  {
   "cell_type": "code",
   "execution_count": 7,
   "id": "3743784d",
   "metadata": {},
   "outputs": [
    {
     "data": {
      "text/html": [
       "<table class=\"dataframe\">\n",
       "<caption>A data.frame: 10 × 2</caption>\n",
       "<thead>\n",
       "\t<tr><th></th><th scope=col>Country</th><th scope=col>Value</th></tr>\n",
       "\t<tr><th></th><th scope=col>&lt;fct&gt;</th><th scope=col>&lt;int&gt;</th></tr>\n",
       "</thead>\n",
       "<tbody>\n",
       "\t<tr><th scope=row>1</th><td>United States </td><td>12394</td></tr>\n",
       "\t<tr><th scope=row>2</th><td>Russia        </td><td> 6148</td></tr>\n",
       "\t<tr><th scope=row>3</th><td>Germany (FRG) </td><td> 1653</td></tr>\n",
       "\t<tr><th scope=row>4</th><td>France        </td><td> 2162</td></tr>\n",
       "\t<tr><th scope=row>5</th><td>United Kingdom</td><td> 1214</td></tr>\n",
       "\t<tr><th scope=row>6</th><td>China         </td><td> 1131</td></tr>\n",
       "\t<tr><th scope=row>7</th><td>Soviet Union  </td><td>   NA</td></tr>\n",
       "\t<tr><th scope=row>8</th><td>Netherlands   </td><td> 1167</td></tr>\n",
       "\t<tr><th scope=row>9</th><td>Italy         </td><td>  660</td></tr>\n",
       "\t<tr><th scope=row>10</th><td>Israel        </td><td> 1263</td></tr>\n",
       "</tbody>\n",
       "</table>\n"
      ],
      "text/latex": [
       "A data.frame: 10 × 2\n",
       "\\begin{tabular}{r|ll}\n",
       "  & Country & Value\\\\\n",
       "  & <fct> & <int>\\\\\n",
       "\\hline\n",
       "\t1 & United States  & 12394\\\\\n",
       "\t2 & Russia         &  6148\\\\\n",
       "\t3 & Germany (FRG)  &  1653\\\\\n",
       "\t4 & France         &  2162\\\\\n",
       "\t5 & United Kingdom &  1214\\\\\n",
       "\t6 & China          &  1131\\\\\n",
       "\t7 & Soviet Union   &    NA\\\\\n",
       "\t8 & Netherlands    &  1167\\\\\n",
       "\t9 & Italy          &   660\\\\\n",
       "\t10 & Israel         &  1263\\\\\n",
       "\\end{tabular}\n"
      ],
      "text/markdown": [
       "\n",
       "A data.frame: 10 × 2\n",
       "\n",
       "| <!--/--> | Country &lt;fct&gt; | Value &lt;int&gt; |\n",
       "|---|---|---|\n",
       "| 1 | United States  | 12394 |\n",
       "| 2 | Russia         |  6148 |\n",
       "| 3 | Germany (FRG)  |  1653 |\n",
       "| 4 | France         |  2162 |\n",
       "| 5 | United Kingdom |  1214 |\n",
       "| 6 | China          |  1131 |\n",
       "| 7 | Soviet Union   |    NA |\n",
       "| 8 | Netherlands    |  1167 |\n",
       "| 9 | Italy          |   660 |\n",
       "| 10 | Israel         |  1263 |\n",
       "\n"
      ],
      "text/plain": [
       "   Country        Value\n",
       "1  United States  12394\n",
       "2  Russia          6148\n",
       "3  Germany (FRG)   1653\n",
       "4  France          2162\n",
       "5  United Kingdom  1214\n",
       "6  China           1131\n",
       "7  Soviet Union      NA\n",
       "8  Netherlands     1167\n",
       "9  Italy            660\n",
       "10 Israel          1263"
      ]
     },
     "metadata": {},
     "output_type": "display_data"
    },
    {
     "data": {
      "text/html": [
       "51"
      ],
      "text/latex": [
       "51"
      ],
      "text/markdown": [
       "51"
      ],
      "text/plain": [
       "[1] 51"
      ]
     },
     "metadata": {},
     "output_type": "display_data"
    }
   ],
   "source": [
    "# Libraries\n",
    "library(tidyverse)\n",
    "library(hrbrthemes)\n",
    "library(kableExtra)\n",
    "options(knitr.table.format = \"html\")\n",
    "\n",
    "# 从github加载数据\n",
    "data <- read.table(\"https://raw.githubusercontent.com/holtzy/data_to_viz/master/Example_dataset/7_OneCatOneNum.csv\", header=TRUE, sep=\",\")\n",
    "# 展示数据\n",
    "head(data,10)\n",
    "# 长度\n",
    "nrow(data)"
   ]
  },
  {
   "cell_type": "code",
   "execution_count": 8,
   "id": "0a651dc6",
   "metadata": {},
   "outputs": [
    {
     "data": {
      "text/html": [
       "38"
      ],
      "text/latex": [
       "38"
      ],
      "text/markdown": [
       "38"
      ],
      "text/plain": [
       "[1] 38"
      ]
     },
     "metadata": {},
     "output_type": "display_data"
    }
   ],
   "source": [
    "# 清除空值数据\n",
    "data <- filter(data,!is.na(Value))\n",
    "nrow(data)"
   ]
  },
  {
   "cell_type": "code",
   "execution_count": 9,
   "id": "f9d6f837",
   "metadata": {
    "scrolled": true
   },
   "outputs": [
    {
     "data": {
      "image/png": "[encoded data removed]",
      "text/plain": [
       "plot without title"
      ]
     },
     "metadata": {
      "image/png": {
       "height": 420,
       "width": 420
      }
     },
     "output_type": "display_data"
    }
   ],
   "source": [
    "# 绘图\n",
    "ggplot(data,aes(x=Country, y=Value) ) +\n",
    "# 定义数据轴\n",
    "geom_segment( aes(x=Country ,xend=Country, y=0, yend=Value), color=\"grey\") +\n",
    "# 绘制点\n",
    "geom_point(size=3, color=\"#69b3a2\") +\n",
    "# x,y轴调换\n",
    "coord_flip() +\n",
    "# 设置主题\n",
    "theme(\n",
    "    # 将内部线条设置为空\n",
    "    panel.grid.minor.y = element_blank(),\n",
    "    panel.grid.major.y = element_blank(),\n",
    "    legend.position=\"none\"\n",
    ") +\n",
    "# 原来x轴也就是现在图像中y轴的轴标题设置为空\n",
    "xlab(\"\")"
   ]
  },
  {
   "cell_type": "markdown",
   "id": "1cddd2a3",
   "metadata": {},
   "source": [
    "很明显，美国和俄罗斯出售物品数量比其他国家多得多。然而，很难看出任何其他国家之间的差异，读者必须从一个国家到另一个国家进行比较。这是很多工作，肯定会放弃对您的图形的关注。"
   ]
  },
  {
   "cell_type": "markdown",
   "id": "976c6bda",
   "metadata": {},
   "source": [
    "### 有序棒棒糖图\n",
    "相反，让我们制作完全相同的图表，但使用它们的值重新排序每个组。\n"
   ]
  },
  {
   "cell_type": "code",
   "execution_count": 10,
   "id": "73cf38bc",
   "metadata": {},
   "outputs": [
    {
     "data": {
      "text/html": [
       "38"
      ],
      "text/latex": [
       "38"
      ],
      "text/markdown": [
       "38"
      ],
      "text/plain": [
       "[1] 38"
      ]
     },
     "metadata": {},
     "output_type": "display_data"
    },
    {
     "data": {
      "text/html": [
       "<table class=\"dataframe\">\n",
       "<caption>A data.frame: 6 × 2</caption>\n",
       "<thead>\n",
       "\t<tr><th></th><th scope=col>Country</th><th scope=col>Value</th></tr>\n",
       "\t<tr><th></th><th scope=col>&lt;fct&gt;</th><th scope=col>&lt;int&gt;</th></tr>\n",
       "</thead>\n",
       "<tbody>\n",
       "\t<tr><th scope=row>1</th><td>United States </td><td>12394</td></tr>\n",
       "\t<tr><th scope=row>2</th><td>Russia        </td><td> 6148</td></tr>\n",
       "\t<tr><th scope=row>3</th><td>Germany (FRG) </td><td> 1653</td></tr>\n",
       "\t<tr><th scope=row>4</th><td>France        </td><td> 2162</td></tr>\n",
       "\t<tr><th scope=row>5</th><td>United Kingdom</td><td> 1214</td></tr>\n",
       "\t<tr><th scope=row>6</th><td>China         </td><td> 1131</td></tr>\n",
       "</tbody>\n",
       "</table>\n"
      ],
      "text/latex": [
       "A data.frame: 6 × 2\n",
       "\\begin{tabular}{r|ll}\n",
       "  & Country & Value\\\\\n",
       "  & <fct> & <int>\\\\\n",
       "\\hline\n",
       "\t1 & United States  & 12394\\\\\n",
       "\t2 & Russia         &  6148\\\\\n",
       "\t3 & Germany (FRG)  &  1653\\\\\n",
       "\t4 & France         &  2162\\\\\n",
       "\t5 & United Kingdom &  1214\\\\\n",
       "\t6 & China          &  1131\\\\\n",
       "\\end{tabular}\n"
      ],
      "text/markdown": [
       "\n",
       "A data.frame: 6 × 2\n",
       "\n",
       "| <!--/--> | Country &lt;fct&gt; | Value &lt;int&gt; |\n",
       "|---|---|---|\n",
       "| 1 | United States  | 12394 |\n",
       "| 2 | Russia         |  6148 |\n",
       "| 3 | Germany (FRG)  |  1653 |\n",
       "| 4 | France         |  2162 |\n",
       "| 5 | United Kingdom |  1214 |\n",
       "| 6 | China          |  1131 |\n",
       "\n"
      ],
      "text/plain": [
       "  Country        Value\n",
       "1 United States  12394\n",
       "2 Russia          6148\n",
       "3 Germany (FRG)   1653\n",
       "4 France          2162\n",
       "5 United Kingdom  1214\n",
       "6 China           1131"
      ]
     },
     "metadata": {},
     "output_type": "display_data"
    }
   ],
   "source": [
    "# Libraries\n",
    "library(tidyverse)\n",
    "library(hrbrthemes)\n",
    "library(kableExtra)\n",
    "options(knitr.table.format = \"html\")\n",
    "\n",
    "# 从github加载数据\n",
    "data <- read.table(\"https://raw.githubusercontent.com/holtzy/data_to_viz/master/Example_dataset/7_OneCatOneNum.csv\", header=TRUE, sep=\",\")\n",
    "# 清除空值数据\n",
    "data <- filter(data,!is.na(Value))\n",
    "nrow(data)\n",
    "head(data)"
   ]
  },
  {
   "cell_type": "code",
   "execution_count": 11,
   "id": "efe98df7",
   "metadata": {},
   "outputs": [],
   "source": [
    "# 排列数据\n",
    "data<- arrange(data,Value)\n",
    "# 将Contry转换为factor项，来表示分类数据\n",
    "data<- mutate(data,Country=factor(Country, Country)) "
   ]
  },
  {
   "cell_type": "code",
   "execution_count": 12,
   "id": "b26de11a",
   "metadata": {},
   "outputs": [
    {
     "data": {
      "image/png": "[encoded data removed]",
      "text/plain": [
       "plot without title"
      ]
     },
     "metadata": {
      "image/png": {
       "height": 420,
       "width": 420
      }
     },
     "output_type": "display_data"
    }
   ],
   "source": [
    "# 绘图\n",
    "ggplot(data,aes(x=Country, y=Value) ) +\n",
    "# 定义数据轴\n",
    "geom_segment( aes(x=Country ,xend=Country, y=0, yend=Value), color=\"grey\") +\n",
    "# 绘制点\n",
    "geom_point(size=3, color=\"#69b3a2\") +\n",
    "# x,y轴调换\n",
    "coord_flip() +\n",
    "# 设置主题\n",
    "theme(\n",
    "    # 将内部线条设置为空\n",
    "    panel.grid.minor.y = element_blank(),\n",
    "    panel.grid.major.y = element_blank(),\n",
    "    legend.position=\"none\"\n",
    ") +\n",
    "# 原来x轴也就是现在图像中y轴的轴标题设置为空\n",
    "xlab(\"\")"
   ]
  },
  {
   "cell_type": "markdown",
   "id": "2ea94485",
   "metadata": {},
   "source": [
    "这个数字现在更具洞察力，法国是第三大出口国，其次是德国、以色列和英国。当然，请注意，将每个国家的人口归一化该图形以获得更多可比数据是有意义的。重新排序数据是构建图表时应始终考虑的简单步骤。当然，有时组的顺序必须由它们的特征而不是它们的值来设置，例如一年中的几个月，这是值得考虑。"
   ]
  },
  {
   "cell_type": "markdown",
   "id": "e6a47f94",
   "metadata": {},
   "source": [
    "## 参考\n",
    "+ [WHY YOU SHOULD ORDER YOUR DATA](https://www.data-to-viz.com/caveat/order_data.html)\n",
    "+ [如何理解R中因子(factor)的概念](https://www.zhihu.com/question/48472404)"
   ]
  }
 ],
 "metadata": {
  "kernelspec": {
   "display_name": "R",
   "language": "R",
   "name": "ir"
  },
  "language_info": {
   "codemirror_mode": "r",
   "file_extension": ".r",
   "mimetype": "text/x-r-source",
   "name": "R",
   "pygments_lexer": "r",
   "version": "3.6.0"
  }
 },
 "nbformat": 4,
 "nbformat_minor": 5
}
