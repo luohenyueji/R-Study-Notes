{
 "cells": [
  {
   "cell_type": "markdown",
   "id": "7890093b",
   "metadata": {},
   "source": [
    "# 数据绘图要点2-Y轴的开始与结束\n",
    "\n",
    "\n",
    "切割或不切割Y轴可能是数据可视化中最具争议的话题之一。基本上，主要问题在于 Y 轴是否应始终从零开始。数据可视化的目的是讲述一个故事，图形表达方式会对可视化讲述的故事产生重大影响。好的可视化可以带出数据的重要方面，但可视化也可以用来隐藏或误导。我们将探讨这一看似简单的问题的一些微妙之处。\n",
    "\n"
   ]
  },
  {
   "cell_type": "markdown",
   "id": "a112b6e2",
   "metadata": {},
   "source": [
    "## Y轴的开始\n",
    "### 不好的实例\n",
    "\n",
    "让我们从显示问题的条形图开始。我们从一个众所周知的问题开始：绘制Y轴（因变量）不从0开始的条形图。条形图由德国经济发展机构 GTAI 创建，来自一个有关[德国劳动力市场的网页](https://www.gtai.de/gtai-en/invest/business-location-germany/business-climate/motivated-and-dependable-employees-81844)。在随附的文本中，该机构吹嘘德国工人比其他欧盟国家的工人更有动力，工作时间更长。\n",
    "\n",
    "![](https://www.callingbullshit.org/tools/img/GTAI_average_hours.gif)"
   ]
  },
  {
   "cell_type": "markdown",
   "id": "f36d8688",
   "metadata": {},
   "source": [
    "看起来德国比瑞典等其他国家有很大的优势，更不用说法国了，对吧？不，这个差距的大小是一种错觉。该图具有误导性，因为表示工作时间的横轴并未归零，而是在 36 处截断。下面，我们重新绘制了该图，其中因变量轴一直归零。现在国家之间的差异似乎可以忽略不计。您可能会注意到，在重新绘制的图表中，我们删除了分隔国家/地区的水平网格线。这些并不是特别具有误导性，但它们增加了视觉混乱，没有任何作用。\n",
    "\n",
    "![](https://www.callingbullshit.org/tools/img/GTAI_redrawn.png)"
   ]
  },
  {
   "cell_type": "markdown",
   "id": "5d322d43",
   "metadata": {},
   "source": [
    "### 好的实例\n",
    "\n",
    "虽然条形图中的条形应该（几乎）总是延伸到零，但折线图不需要在因变量轴上包含零。例如，下面来自加利福尼亚预算和政策中心的折线图非常好，尽管Y轴不从0开始。\n",
    "\n",
    "![](https://www.callingbullshit.org/tools/img/CBPC_households.png)\n",
    "\n",
    "有什么区别？为什么条形图需要在Y轴上包含0，而折线图不需要这样做？一种观点是，这两种类型的图表讲述了不同的故事。通过其设计，条形图强调与每个类别相关的值的绝对大小，而折线图强调因变量（通常为Y值）随自变量（通常为X值）的变化而变化。"
   ]
  },
  {
   "cell_type": "markdown",
   "id": "6bc404b8",
   "metadata": {},
   "source": [
    "那么在某些情况下，如果折线图的Y轴从0开始，会出现什么样的情况？ 下图是一张被广泛分享用于表现气候变化的折线图，该折线图的Y轴从0开始。可以得出结论，气候根本没什么变化。视觉效果看起来像一条扁平线。我们不会看到任何变化，这样这张图对我们来说将变得毫无意义。\n",
    "\n",
    "![](https://www.callingbullshit.org/tools/img/national_review_temp_graph.png-large)\n",
    "\n",
    "但是如果我们通过适当的选择尺度显示，该折线图可能变成下面这样。很显然，这一变化与我们平时所看到的，感受到的是一致的。\n",
    "\n",
    "![](https://www.callingbullshit.org/tools/img/philip_bump_redraws_national_review.jpeg)"
   ]
  },
  {
   "cell_type": "markdown",
   "id": "ac521238",
   "metadata": {},
   "source": [
    "因此除了条形图，一般提倡使用基于数据合理的Y轴。也许轴的最小值是您历史上的最低点，也许是您的团队决定需要采取不同行动的触发点。随便设置，只要让它有意义，而不是软件自动为您决定，这是您需要思考的地方。对于那些0不在可能的数据点范围内，则更加不能够将其包含在Y轴中。\n",
    "\n"
   ]
  },
  {
   "cell_type": "markdown",
   "id": "d0f9b384",
   "metadata": {},
   "source": [
    "## Y轴的结束"
   ]
  },
  {
   "cell_type": "markdown",
   "id": "4b07af9d",
   "metadata": {},
   "source": [
    "有些人认为Y轴必须以值的理论最大值为结束。下图表示的是一项调查情况，这会压缩数据并形成一个尴尬的图表，我们无法完全看到发生了什么。这些项中的任何一条实际中都不可能达到100%，因此，Y轴可以不以100%为结束。\n",
    "\n",
    "\n",
    "![](https://i2.wp.com/stephanieevergreen.com/wp-content/uploads/2017/02/Axis100Percent.jpg?w=585&ssl=1)\n",
    "\n",
    "\n",
    "如果我们选择一个更接近真实数据结束位置的轴，我们实际上可以更清楚地看到数据。\n",
    "\n",
    "![](https://i2.wp.com/stephanieevergreen.com/wp-content/uploads/2017/02/Axis50Percent.jpg?w=585&ssl=1)"
   ]
  },
  {
   "cell_type": "markdown",
   "id": "c70017ac",
   "metadata": {},
   "source": [
    "虽然这确实让我们的数据全面可见，但它可能会遗漏部分故事。如果我们定了一个目标，设置这些项离我们的目标有多远。比如我们有将报告为盟友ally的百分比提高到 75% 的目标。那么75%可以成为该条形图Y轴的结束点。最好让我们这样标记目标，以便我们的目标是显而易见的。\n",
    "\n",
    "![](https://i0.wp.com/stephanieevergreen.com/wp-content/uploads/2017/02/AxisGoalLine.jpg?w=585&ssl=1)\n",
    "\n",
    "\n"
   ]
  },
  {
   "cell_type": "markdown",
   "id": "b487707a",
   "metadata": {},
   "source": [
    "## 总结\n",
    "总之，数据可视化会讲故事。相对微妙的选择，例如条形图或折线图中轴的范围，会对图形讲述的故事产生重大影响。当您查看数据图形时，您需要问问自己图形是否旨在讲述一个准确反映基础数据的故事，或者它是否旨在讲述一个希望大家能看到的故事。\n",
    "\n",
    "条形图强调与每个类别相关的值的绝对值，而折线图强调因变量通常是Y值随着自变量（通常是X值）的变化而发生的变化，这是重点。因此：\n",
    "\n",
    "+ 条形图：对于这种图表有共识：Y轴应该从0开始。\n",
    "+ 折线图：对于这种图表没有达成共识，Y轴通常不必从0开始。\n",
    "\n",
    "至于Y轴的结束点，关键问题是你应该为你的Y轴选择一个有意义的最大值。也许最大值是您的目标，这样轴本身就成为您需要讲述数据的故事的一部分。"
   ]
  },
  {
   "cell_type": "markdown",
   "id": "7cdda6ac",
   "metadata": {},
   "source": [
    "## 参考\n",
    "\n",
    "+ [TO CUT OR NOT TO CUT](https://www.data-to-viz.com/caveat/cut_y_axis.html)\n",
    "+ [Misleading axes on graphs](https://www.callingbullshit.org/tools/tools_misleading_axes.html)\n",
    "+ [Where to Start and End Your Y-Axis Scale](http://stephanieevergreen.com/y-axis/)\n"
   ]
  }
 ],
 "metadata": {
  "kernelspec": {
   "display_name": "R",
   "language": "R",
   "name": "ir"
  },
  "language_info": {
   "codemirror_mode": "r",
   "file_extension": ".r",
   "mimetype": "text/x-r-source",
   "name": "R",
   "pygments_lexer": "r",
   "version": "3.6.0"
  }
 },
 "nbformat": 4,
 "nbformat_minor": 5
}
