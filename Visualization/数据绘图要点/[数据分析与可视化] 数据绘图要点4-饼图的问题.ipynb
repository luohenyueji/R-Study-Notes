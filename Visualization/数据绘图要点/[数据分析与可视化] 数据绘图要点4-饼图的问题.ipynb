{
 "cells": [
  {
   "cell_type": "markdown",
   "id": "5a8d57a7",
   "metadata": {},
   "source": [
    "# 数据绘图要点4-饼图的问题\n",
    "\n",
    "本文让我们了解有史以来被批评最多的图表类型：饼图。"
   ]
  },
  {
   "cell_type": "markdown",
   "id": "2a6e4188",
   "metadata": {},
   "source": [
    "## 坏的定义\n",
    "饼图是一个圆，分为多个部分，每个部分代表整体的一部分。它通常用于显示百分比，其中扇区的总和等于100%。问题是人类在阅读角度方面非常糟糕。在相邻的饼图中，尝试找出最大的一组，并尝试按值对它们进行排序，对于人类而言是很难的，这就是必须避免使用饼图的原因。让我们尝试比较3个饼图。尝试了解在这3个图形中哪个组的值最高。此外，尝试弄清楚群体之间的价值演变是什么。"
   ]
  },
  {
   "cell_type": "code",
   "execution_count": 6,
   "id": "23b10dfb",
   "metadata": {},
   "outputs": [
    {
     "data": {
      "text/html": [
       "<table class=\"dataframe\">\n",
       "<caption>A data.frame: 5 × 2</caption>\n",
       "<thead>\n",
       "\t<tr><th scope=col>name</th><th scope=col>value</th></tr>\n",
       "\t<tr><th scope=col>&lt;fct&gt;</th><th scope=col>&lt;dbl&gt;</th></tr>\n",
       "</thead>\n",
       "<tbody>\n",
       "\t<tr><td>a</td><td>17</td></tr>\n",
       "\t<tr><td>b</td><td>18</td></tr>\n",
       "\t<tr><td>c</td><td>20</td></tr>\n",
       "\t<tr><td>d</td><td>22</td></tr>\n",
       "\t<tr><td>e</td><td>24</td></tr>\n",
       "</tbody>\n",
       "</table>\n"
      ],
      "text/latex": [
       "A data.frame: 5 × 2\n",
       "\\begin{tabular}{ll}\n",
       " name & value\\\\\n",
       " <fct> & <dbl>\\\\\n",
       "\\hline\n",
       "\t a & 17\\\\\n",
       "\t b & 18\\\\\n",
       "\t c & 20\\\\\n",
       "\t d & 22\\\\\n",
       "\t e & 24\\\\\n",
       "\\end{tabular}\n"
      ],
      "text/markdown": [
       "\n",
       "A data.frame: 5 × 2\n",
       "\n",
       "| name &lt;fct&gt; | value &lt;dbl&gt; |\n",
       "|---|---|\n",
       "| a | 17 |\n",
       "| b | 18 |\n",
       "| c | 20 |\n",
       "| d | 22 |\n",
       "| e | 24 |\n",
       "\n"
      ],
      "text/plain": [
       "  name value\n",
       "1 a    17   \n",
       "2 b    18   \n",
       "3 c    20   \n",
       "4 d    22   \n",
       "5 e    24   "
      ]
     },
     "metadata": {},
     "output_type": "display_data"
    },
    {
     "data": {
      "text/html": [
       "<table class=\"dataframe\">\n",
       "<caption>A data.frame: 5 × 2</caption>\n",
       "<thead>\n",
       "\t<tr><th scope=col>name</th><th scope=col>value</th></tr>\n",
       "\t<tr><th scope=col>&lt;fct&gt;</th><th scope=col>&lt;dbl&gt;</th></tr>\n",
       "</thead>\n",
       "<tbody>\n",
       "\t<tr><td>a</td><td>20</td></tr>\n",
       "\t<tr><td>b</td><td>18</td></tr>\n",
       "\t<tr><td>c</td><td>21</td></tr>\n",
       "\t<tr><td>d</td><td>20</td></tr>\n",
       "\t<tr><td>e</td><td>20</td></tr>\n",
       "</tbody>\n",
       "</table>\n"
      ],
      "text/latex": [
       "A data.frame: 5 × 2\n",
       "\\begin{tabular}{ll}\n",
       " name & value\\\\\n",
       " <fct> & <dbl>\\\\\n",
       "\\hline\n",
       "\t a & 20\\\\\n",
       "\t b & 18\\\\\n",
       "\t c & 21\\\\\n",
       "\t d & 20\\\\\n",
       "\t e & 20\\\\\n",
       "\\end{tabular}\n"
      ],
      "text/markdown": [
       "\n",
       "A data.frame: 5 × 2\n",
       "\n",
       "| name &lt;fct&gt; | value &lt;dbl&gt; |\n",
       "|---|---|\n",
       "| a | 20 |\n",
       "| b | 18 |\n",
       "| c | 21 |\n",
       "| d | 20 |\n",
       "| e | 20 |\n",
       "\n"
      ],
      "text/plain": [
       "  name value\n",
       "1 a    20   \n",
       "2 b    18   \n",
       "3 c    21   \n",
       "4 d    20   \n",
       "5 e    20   "
      ]
     },
     "metadata": {},
     "output_type": "display_data"
    },
    {
     "data": {
      "text/html": [
       "<table class=\"dataframe\">\n",
       "<caption>A data.frame: 5 × 2</caption>\n",
       "<thead>\n",
       "\t<tr><th scope=col>name</th><th scope=col>value</th></tr>\n",
       "\t<tr><th scope=col>&lt;fct&gt;</th><th scope=col>&lt;dbl&gt;</th></tr>\n",
       "</thead>\n",
       "<tbody>\n",
       "\t<tr><td>a</td><td>24</td></tr>\n",
       "\t<tr><td>b</td><td>23</td></tr>\n",
       "\t<tr><td>c</td><td>21</td></tr>\n",
       "\t<tr><td>d</td><td>19</td></tr>\n",
       "\t<tr><td>e</td><td>18</td></tr>\n",
       "</tbody>\n",
       "</table>\n"
      ],
      "text/latex": [
       "A data.frame: 5 × 2\n",
       "\\begin{tabular}{ll}\n",
       " name & value\\\\\n",
       " <fct> & <dbl>\\\\\n",
       "\\hline\n",
       "\t a & 24\\\\\n",
       "\t b & 23\\\\\n",
       "\t c & 21\\\\\n",
       "\t d & 19\\\\\n",
       "\t e & 18\\\\\n",
       "\\end{tabular}\n"
      ],
      "text/markdown": [
       "\n",
       "A data.frame: 5 × 2\n",
       "\n",
       "| name &lt;fct&gt; | value &lt;dbl&gt; |\n",
       "|---|---|\n",
       "| a | 24 |\n",
       "| b | 23 |\n",
       "| c | 21 |\n",
       "| d | 19 |\n",
       "| e | 18 |\n",
       "\n"
      ],
      "text/plain": [
       "  name value\n",
       "1 a    24   \n",
       "2 b    23   \n",
       "3 c    21   \n",
       "4 d    19   \n",
       "5 e    18   "
      ]
     },
     "metadata": {},
     "output_type": "display_data"
    }
   ],
   "source": [
    "# Libraries\n",
    "library(tidyverse)\n",
    "library(hrbrthemes)\n",
    "library(viridis)\n",
    "library(patchwork)\n",
    "\n",
    "# create 3 data frame 创建数据\n",
    "data1 <- data.frame( name=letters[1:5], value=c(17,18,20,22,24) )\n",
    "data2 <- data.frame( name=letters[1:5], value=c(20,18,21,20,20) )\n",
    "data3 <- data.frame( name=letters[1:5], value=c(24,23,21,19,18) )\n",
    "# 查看数据\n",
    "data1\n",
    "data2\n",
    "data3"
   ]
  },
  {
   "cell_type": "code",
   "execution_count": 7,
   "id": "f6fab9fc",
   "metadata": {},
   "outputs": [
    {
     "data": {
      "image/png": "[encoded data removed]",
      "text/plain": [
       "plot without title"
      ]
     },
     "metadata": {
      "image/png": {
       "height": 420,
       "width": 420
      }
     },
     "output_type": "display_data"
    }
   ],
   "source": [
    "# 定义绘图函数\n",
    "plot_pie <- function(data, vec){\n",
    "\n",
    "ggplot(data, aes(x=\"name\", y=value, fill=name)) +\n",
    "  # 饼图要先绘制条形图\n",
    "  geom_bar(width = 1, stat = \"identity\") +\n",
    "  # 改为极坐标系\n",
    "  coord_polar(\"y\", start=0, direction = -1) +\n",
    "  # 设置填充颜色\n",
    "  scale_fill_viridis(discrete = TRUE,  direction=-1) + \n",
    "  # 显示文字  \n",
    "  geom_text(aes(y = vec, label = rev(name), size=4, color=c( \"white\", rep(\"black\", 4)))) +\n",
    "  scale_color_manual(values=c(\"black\", \"white\")) +\n",
    "  theme(\n",
    "    legend.position=\"none\",\n",
    "    plot.title = element_text(size=14),\n",
    "    panel.grid = element_blank(),\n",
    "    axis.text = element_blank()\n",
    "  ) +\n",
    "  xlab(\"\") +\n",
    "  ylab(\"\")\n",
    "}\n",
    "\n",
    "a <- plot_pie(data1, c(10,35,55,75,93))\n",
    "b <- plot_pie(data2, c(10,35,53,75,93))\n",
    "c <- plot_pie(data3, c(10,29,50,75,93))\n",
    "a + b + c"
   ]
  },
  {
   "cell_type": "markdown",
   "id": "3de19bc5",
   "metadata": {},
   "source": [
    "现在，让我们使用条形图barplot表示完全相同的数据："
   ]
  },
  {
   "cell_type": "code",
   "execution_count": 8,
   "id": "01d409b3",
   "metadata": {},
   "outputs": [
    {
     "data": {
      "image/png": "[encoded data removed]",
      "text/plain": [
       "plot without title"
      ]
     },
     "metadata": {
      "image/png": {
       "height": 420,
       "width": 420
      }
     },
     "output_type": "display_data"
    }
   ],
   "source": [
    "# 定义绘图函数\n",
    "plot_bar  <- function(data){\n",
    "\n",
    "ggplot(data, aes(x=name, y=value, fill=name)) +\n",
    "  # 绘制条形图\n",
    "  geom_bar(stat = \"identity\") +\n",
    "  # 设置填充颜色\n",
    "  scale_fill_viridis(discrete = TRUE,  direction=-1) + \n",
    "  scale_color_manual(values=c(\"black\", \"white\")) +\n",
    "  theme(\n",
    "    legend.position=\"none\",\n",
    "    plot.title = element_text(size=14),\n",
    "    panel.grid = element_blank(),\n",
    "  ) +\n",
    "  ylim(0,25) +\n",
    "  xlab(\"\") +\n",
    "  ylab(\"\")\n",
    "\n",
    "}\n",
    "\n",
    "a <- plot_bar (data1)\n",
    "b <- plot_bar (data2)\n",
    "c <- plot_bar (data3)\n",
    "a + b + c"
   ]
  },
  {
   "cell_type": "markdown",
   "id": "0bfc2c79",
   "metadata": {},
   "source": [
    "让我们谈谈使用图表的原因。 \n",
    "+ 图表是获取信息并使其更易于理解的一种方式。\n",
    "+ 一般来说，图表的目的是更容易比较不同的数据集。\n",
    "+ 图表能够在不增加复杂性的情况下传达越多越好的信息。\n",
    "\n",
    "正如您通过对比图片可以看到，饼图难以直观表现数据间的差异，而条形图正好相反，可以清晰看到不同数据的差别。饼图没法比较各种不同的值，而且也没法传达更多的信息。"
   ]
  },
  {
   "cell_type": "markdown",
   "id": "4918112b",
   "metadata": {},
   "source": [
    "# 解决方案\n",
    "\n",
    "条形图，柱状图是饼图的最佳替代品。如果你有很多值要显示，你也可以考虑一个在我看来更优雅一点的棒棒糖图。以下是基于世界上少数国家/地区销售的重要物品数量的展示示例："
   ]
  },
  {
   "cell_type": "code",
   "execution_count": 9,
   "id": "49ccc4af",
   "metadata": {},
   "outputs": [
    {
     "data": {
      "text/html": [
       "38"
      ],
      "text/latex": [
       "38"
      ],
      "text/markdown": [
       "38"
      ],
      "text/plain": [
       "[1] 38"
      ]
     },
     "metadata": {},
     "output_type": "display_data"
    },
    {
     "data": {
      "text/html": [
       "<table class=\"dataframe\">\n",
       "<caption>A data.frame: 6 × 2</caption>\n",
       "<thead>\n",
       "\t<tr><th></th><th scope=col>Country</th><th scope=col>Value</th></tr>\n",
       "\t<tr><th></th><th scope=col>&lt;fct&gt;</th><th scope=col>&lt;int&gt;</th></tr>\n",
       "</thead>\n",
       "<tbody>\n",
       "\t<tr><th scope=row>1</th><td>United States </td><td>12394</td></tr>\n",
       "\t<tr><th scope=row>2</th><td>Russia        </td><td> 6148</td></tr>\n",
       "\t<tr><th scope=row>3</th><td>Germany (FRG) </td><td> 1653</td></tr>\n",
       "\t<tr><th scope=row>4</th><td>France        </td><td> 2162</td></tr>\n",
       "\t<tr><th scope=row>5</th><td>United Kingdom</td><td> 1214</td></tr>\n",
       "\t<tr><th scope=row>6</th><td>China         </td><td> 1131</td></tr>\n",
       "</tbody>\n",
       "</table>\n"
      ],
      "text/latex": [
       "A data.frame: 6 × 2\n",
       "\\begin{tabular}{r|ll}\n",
       "  & Country & Value\\\\\n",
       "  & <fct> & <int>\\\\\n",
       "\\hline\n",
       "\t1 & United States  & 12394\\\\\n",
       "\t2 & Russia         &  6148\\\\\n",
       "\t3 & Germany (FRG)  &  1653\\\\\n",
       "\t4 & France         &  2162\\\\\n",
       "\t5 & United Kingdom &  1214\\\\\n",
       "\t6 & China          &  1131\\\\\n",
       "\\end{tabular}\n"
      ],
      "text/markdown": [
       "\n",
       "A data.frame: 6 × 2\n",
       "\n",
       "| <!--/--> | Country &lt;fct&gt; | Value &lt;int&gt; |\n",
       "|---|---|---|\n",
       "| 1 | United States  | 12394 |\n",
       "| 2 | Russia         |  6148 |\n",
       "| 3 | Germany (FRG)  |  1653 |\n",
       "| 4 | France         |  2162 |\n",
       "| 5 | United Kingdom |  1214 |\n",
       "| 6 | China          |  1131 |\n",
       "\n"
      ],
      "text/plain": [
       "  Country        Value\n",
       "1 United States  12394\n",
       "2 Russia          6148\n",
       "3 Germany (FRG)   1653\n",
       "4 France          2162\n",
       "5 United Kingdom  1214\n",
       "6 China           1131"
      ]
     },
     "metadata": {},
     "output_type": "display_data"
    },
    {
     "data": {
      "image/png": "[encoded data removed]",
      "text/plain": [
       "plot without title"
      ]
     },
     "metadata": {
      "image/png": {
       "height": 420,
       "width": 420
      }
     },
     "output_type": "display_data"
    }
   ],
   "source": [
    "# 从github加载数据\n",
    "data <- read.table(\"https://raw.githubusercontent.com/holtzy/data_to_viz/master/Example_dataset/7_OneCatOneNum.csv\", header=TRUE, sep=\",\")\n",
    "# 清除空值数据\n",
    "data <- filter(data,!is.na(Value))\n",
    "nrow(data)\n",
    "head(data)\n",
    "# 排列数据\n",
    "data<- arrange(data,Value)\n",
    "# 将Contry转换为factor项，来表示分类数据\n",
    "data<- mutate(data,Country=factor(Country, Country))\n",
    "# 绘图\n",
    "ggplot(data,aes(x=Country, y=Value) ) +\n",
    "# 定义数据轴\n",
    "geom_segment( aes(x=Country ,xend=Country, y=0, yend=Value), color=\"grey\") +\n",
    "# 绘制点\n",
    "geom_point(size=3, color=\"#69b3a2\") +\n",
    "# x,y轴调换\n",
    "coord_flip() +\n",
    "# 设置主题\n",
    "theme(\n",
    "    # 将内部线条设置为空\n",
    "    panel.grid.minor.y = element_blank(),\n",
    "    panel.grid.major.y = element_blank(),\n",
    "    legend.position=\"none\"\n",
    ") +\n",
    "# 原来x轴也就是现在图像中y轴的轴标题设置为空\n",
    "xlab(\"\")"
   ]
  },
  {
   "cell_type": "markdown",
   "id": "7d65bb70",
   "metadata": {},
   "source": [
    "如果您的目标是描述整体的组成，另一种可能性是创建树状图。"
   ]
  },
  {
   "cell_type": "code",
   "execution_count": 10,
   "id": "0c42de74",
   "metadata": {},
   "outputs": [
    {
     "data": {
      "image/png": "[encoded data removed]",
      "text/plain": [
       "plot without title"
      ]
     },
     "metadata": {
      "image/png": {
       "height": 420,
       "width": 420
      }
     },
     "output_type": "display_data"
    }
   ],
   "source": [
    "# Package\n",
    "# 导入专门的包\n",
    "library(treemap)\n",
    "\n",
    "# Plot 绘图\n",
    "treemap(data,    \n",
    "        # data\n",
    "        index=\"Country\",\n",
    "        vSize=\"Value\",\n",
    "        type=\"index\",\n",
    "\n",
    "        # 设置颜色\n",
    "        title=\"\",\n",
    "        palette=\"Dark2\",\n",
    "\n",
    "        # Border 边界框设置\n",
    "        border.col=c(\"black\"),\n",
    "        # 边界框线宽\n",
    "        border.lwds=3,                         \n",
    "\n",
    "        # Labels 设置标签颜色\n",
    "        fontcolor.labels=\"white\",\n",
    "        # 设置字体\n",
    "        fontface.labels=2,\n",
    "        # 设置标签位置\n",
    "        align.labels=c(\"left\", \"top\"),\n",
    "        # 设置面积越大，标签越大\n",
    "        inflate.labels=T,\n",
    "        # 设置显示标签等级，越小显示的标签越少\n",
    "        fontsize.labels=5\n",
    ")"
   ]
  },
  {
   "cell_type": "markdown",
   "id": "8505eebe",
   "metadata": {},
   "source": [
    "# 参考\n",
    "\n",
    "+ [THE ISSUE WITH PIE CHART](https://www.data-to-viz.com/caveat/pie.html)\n",
    "+ [pie-charts-are-the-worst](https://www.businessinsider.com.au/pie-charts-are-the-worst-2013-6?r=US&IR=T)"
   ]
  }
 ],
 "metadata": {
  "kernelspec": {
   "display_name": "R",
   "language": "R",
   "name": "ir"
  },
  "language_info": {
   "codemirror_mode": "r",
   "file_extension": ".r",
   "mimetype": "text/x-r-source",
   "name": "R",
   "pygments_lexer": "r",
   "version": "3.6.0"
  }
 },
 "nbformat": 4,
 "nbformat_minor": 5
}
