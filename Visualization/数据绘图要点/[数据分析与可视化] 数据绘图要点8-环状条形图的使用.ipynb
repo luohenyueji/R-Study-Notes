{
 "cells": [
  {
   "cell_type": "markdown",
   "id": "fcc57f44",
   "metadata": {},
   "source": [
    "# 数据绘图要点8-环状条形图的使用\n",
    "\n",
    "环状条形图RADIAL BAR CHARTS是指用极坐标而不是笛卡尔平面绘制的条形图，RADIAL BAR CHARTS没有规定的中文翻译，有些人翻译为环状条形图，有些人翻译为径向条形图。"
   ]
  },
  {
   "cell_type": "markdown",
   "id": "fba92b84",
   "metadata": {},
   "source": [
    "## 绘图实例\n",
    "下图是显示2017年某一商品前6大国家的出口数量。"
   ]
  },
  {
   "cell_type": "code",
   "execution_count": 17,
   "id": "c670ad45",
   "metadata": {},
   "outputs": [
    {
     "data": {
      "text/html": [
       "<table class=\"dataframe\">\n",
       "<caption>A data.frame: 6 × 2</caption>\n",
       "<thead>\n",
       "\t<tr><th></th><th scope=col>Country</th><th scope=col>Value</th></tr>\n",
       "\t<tr><th></th><th scope=col>&lt;fct&gt;</th><th scope=col>&lt;int&gt;</th></tr>\n",
       "</thead>\n",
       "<tbody>\n",
       "\t<tr><th scope=row>1</th><td>United States </td><td>12394</td></tr>\n",
       "\t<tr><th scope=row>2</th><td>Russia        </td><td> 6148</td></tr>\n",
       "\t<tr><th scope=row>3</th><td>Germany (FRG) </td><td> 1653</td></tr>\n",
       "\t<tr><th scope=row>4</th><td>France        </td><td> 2162</td></tr>\n",
       "\t<tr><th scope=row>5</th><td>United Kingdom</td><td> 1214</td></tr>\n",
       "\t<tr><th scope=row>6</th><td>China         </td><td> 1131</td></tr>\n",
       "</tbody>\n",
       "</table>\n"
      ],
      "text/latex": [
       "A data.frame: 6 × 2\n",
       "\\begin{tabular}{r|ll}\n",
       "  & Country & Value\\\\\n",
       "  & <fct> & <int>\\\\\n",
       "\\hline\n",
       "\t1 & United States  & 12394\\\\\n",
       "\t2 & Russia         &  6148\\\\\n",
       "\t3 & Germany (FRG)  &  1653\\\\\n",
       "\t4 & France         &  2162\\\\\n",
       "\t5 & United Kingdom &  1214\\\\\n",
       "\t6 & China          &  1131\\\\\n",
       "\\end{tabular}\n"
      ],
      "text/markdown": [
       "\n",
       "A data.frame: 6 × 2\n",
       "\n",
       "| <!--/--> | Country &lt;fct&gt; | Value &lt;int&gt; |\n",
       "|---|---|---|\n",
       "| 1 | United States  | 12394 |\n",
       "| 2 | Russia         |  6148 |\n",
       "| 3 | Germany (FRG)  |  1653 |\n",
       "| 4 | France         |  2162 |\n",
       "| 5 | United Kingdom |  1214 |\n",
       "| 6 | China          |  1131 |\n",
       "\n"
      ],
      "text/plain": [
       "  Country        Value\n",
       "1 United States  12394\n",
       "2 Russia          6148\n",
       "3 Germany (FRG)   1653\n",
       "4 France          2162\n",
       "5 United Kingdom  1214\n",
       "6 China           1131"
      ]
     },
     "metadata": {},
     "output_type": "display_data"
    },
    {
     "data": {
      "text/html": [
       "51"
      ],
      "text/latex": [
       "51"
      ],
      "text/markdown": [
       "51"
      ],
      "text/plain": [
       "[1] 51"
      ]
     },
     "metadata": {},
     "output_type": "display_data"
    }
   ],
   "source": [
    "# 导入库\n",
    "library(tidyverse)\n",
    "library(hrbrthemes)\n",
    "\n",
    "# 加载数据\n",
    "data <- read.table(\"https://raw.githubusercontent.com/holtzy/data_to_viz/master/Example_dataset/7_OneCatOneNum.csv\", header=TRUE, sep=\",\")\n",
    "head(data)\n",
    "nrow(data)"
   ]
  },
  {
   "cell_type": "code",
   "execution_count": 18,
   "id": "f76c3bc1",
   "metadata": {},
   "outputs": [
    {
     "data": {
      "text/html": [
       "<table class=\"dataframe\">\n",
       "<caption>A data.frame: 6 × 2</caption>\n",
       "<thead>\n",
       "\t<tr><th></th><th scope=col>Country</th><th scope=col>Value</th></tr>\n",
       "\t<tr><th></th><th scope=col>&lt;fct&gt;</th><th scope=col>&lt;int&gt;</th></tr>\n",
       "</thead>\n",
       "<tbody>\n",
       "\t<tr><th scope=row>33</th><td>United Kingdom</td><td> 1214</td></tr>\n",
       "\t<tr><th scope=row>34</th><td>Israel        </td><td> 1263</td></tr>\n",
       "\t<tr><th scope=row>35</th><td>Germany (FRG) </td><td> 1653</td></tr>\n",
       "\t<tr><th scope=row>36</th><td>France        </td><td> 2162</td></tr>\n",
       "\t<tr><th scope=row>37</th><td>Russia        </td><td> 6148</td></tr>\n",
       "\t<tr><th scope=row>38</th><td>United States </td><td>12394</td></tr>\n",
       "</tbody>\n",
       "</table>\n"
      ],
      "text/latex": [
       "A data.frame: 6 × 2\n",
       "\\begin{tabular}{r|ll}\n",
       "  & Country & Value\\\\\n",
       "  & <fct> & <int>\\\\\n",
       "\\hline\n",
       "\t33 & United Kingdom &  1214\\\\\n",
       "\t34 & Israel         &  1263\\\\\n",
       "\t35 & Germany (FRG)  &  1653\\\\\n",
       "\t36 & France         &  2162\\\\\n",
       "\t37 & Russia         &  6148\\\\\n",
       "\t38 & United States  & 12394\\\\\n",
       "\\end{tabular}\n"
      ],
      "text/markdown": [
       "\n",
       "A data.frame: 6 × 2\n",
       "\n",
       "| <!--/--> | Country &lt;fct&gt; | Value &lt;int&gt; |\n",
       "|---|---|---|\n",
       "| 33 | United Kingdom |  1214 |\n",
       "| 34 | Israel         |  1263 |\n",
       "| 35 | Germany (FRG)  |  1653 |\n",
       "| 36 | France         |  2162 |\n",
       "| 37 | Russia         |  6148 |\n",
       "| 38 | United States  | 12394 |\n",
       "\n"
      ],
      "text/plain": [
       "   Country        Value\n",
       "33 United Kingdom  1214\n",
       "34 Israel          1263\n",
       "35 Germany (FRG)   1653\n",
       "36 France          2162\n",
       "37 Russia          6148\n",
       "38 United States  12394"
      ]
     },
     "metadata": {},
     "output_type": "display_data"
    },
    {
     "data": {
      "text/html": [
       "6"
      ],
      "text/latex": [
       "6"
      ],
      "text/markdown": [
       "6"
      ],
      "text/plain": [
       "[1] 6"
      ]
     },
     "metadata": {},
     "output_type": "display_data"
    }
   ],
   "source": [
    "# 删除空值数据\n",
    "data <-filter(data,!is.na(Value))\n",
    "# 数据从小到大排序\n",
    "data <-arrange(data,Value)\n",
    "# 提取尾部6位数据\n",
    "data <-tail(data,6)\n",
    "# 建立数据表\n",
    "data <-mutate(data,Country=factor(Country, Country))\n",
    "head(data)\n",
    "nrow(data)"
   ]
  },
  {
   "cell_type": "code",
   "execution_count": 22,
   "id": "ae4e685d",
   "metadata": {},
   "outputs": [
    {
     "data": {
      "image/png": "[encoded data removed]",
      "text/plain": [
       "plot without title"
      ]
     },
     "metadata": {
      "image/png": {
       "height": 420,
       "width": 420
      }
     },
     "output_type": "display_data"
    }
   ],
   "source": [
    "# 绘图\n",
    "ggplot(data, aes(x=Country, y=Value) ) +\n",
    "geom_bar(fill=\"#69b3a2\", stat=\"identity\") +\n",
    "geom_text(hjust = 1, size = 3, aes( y = 0, label = paste(Country,\" \"))) +\n",
    "theme(\n",
    "  panel.grid.minor.y = element_blank(),\n",
    "  panel.grid.major.y = element_blank(),\n",
    "  legend.position=\"none\",\n",
    "  axis.text = element_blank()\n",
    ") +\n",
    "xlab(\"\") +\n",
    "ylab(\"\") +\n",
    "# 使用极坐标\n",
    "coord_polar(theta = \"y\") +\n",
    "ylim(0,15000) "
   ]
  },
  {
   "cell_type": "markdown",
   "id": "b7fd39a1",
   "metadata": {},
   "source": [
    "显而易见这种图形的优点是非常引人注目。但是，由于条形图绘制在极轴的不同径向点上，因此它们具有不同的半径，无法通过长度进行比较。此图上还存在其他问题，如缺少Y轴。具体原因如下图所示。下图中如果想要知道第一幅环状条形图中各个条形数值关系，一般都是通过条形长度来判断。但是条形拉伸成弧长时会发生变形，导致比较结果为第二幅所示，但是实际各个条形数值关系结果为第三幅图。\n",
    "\n",
    "![](image/img8_1.png)"
   ]
  },
  {
   "cell_type": "markdown",
   "id": "1989c938",
   "metadata": {},
   "source": [
    "## 解决方法\n",
    "\n",
    "如果很关注数据量的展示，我们可以给环状条形图添加数值标签或者使用条形图，棒棒糖图。"
   ]
  },
  {
   "cell_type": "markdown",
   "id": "14d3db1c",
   "metadata": {},
   "source": [
    "### 添加数值标签"
   ]
  },
  {
   "cell_type": "code",
   "execution_count": 32,
   "id": "3d193ca2",
   "metadata": {},
   "outputs": [
    {
     "data": {
      "image/png": "[encoded data removed]",
      "text/plain": [
       "plot without title"
      ]
     },
     "metadata": {
      "image/png": {
       "height": 420,
       "width": 420
      }
     },
     "output_type": "display_data"
    }
   ],
   "source": [
    "# 绘图\n",
    "ggplot(data, aes(x=Country, y=Value) ) +\n",
    "geom_bar(fill=\"#69b3a2\", stat=\"identity\") +\n",
    "geom_text(hjust = 1, size = 3, aes( y = 0, label = paste(Country,\" \",Value,\" \"))) +\n",
    "theme(\n",
    "  panel.grid.minor.y = element_blank(),\n",
    "  panel.grid.major.y = element_blank(),\n",
    "  legend.position=\"none\",\n",
    "  axis.text = element_blank()\n",
    ") +\n",
    "xlab(\"\") +\n",
    "ylab(\"\") +\n",
    "# 使用极坐标\n",
    "coord_polar(theta = \"y\") +\n",
    "ylim(0,15000) "
   ]
  },
  {
   "cell_type": "markdown",
   "id": "c28f9c3f",
   "metadata": {},
   "source": [
    "### 棒棒糖图"
   ]
  },
  {
   "cell_type": "code",
   "execution_count": 27,
   "id": "28896c26",
   "metadata": {},
   "outputs": [
    {
     "data": {
      "image/png": "[encoded data removed]",
      "text/plain": [
       "plot without title"
      ]
     },
     "metadata": {
      "image/png": {
       "height": 420,
       "width": 420
      }
     },
     "output_type": "display_data"
    }
   ],
   "source": [
    "ggplot(data, aes(x=Country, y=Value) ) +\n",
    "# 画线\n",
    "geom_segment( aes(x=Country ,xend=Country, y=0, yend=Value), color=\"grey\") +\n",
    "geom_point(size=3, color=\"#69b3a2\") +\n",
    "# 翻转轴\n",
    "coord_flip() +\n",
    "theme(\n",
    "  panel.grid.minor.y = element_blank(),\n",
    "  panel.grid.major.y = element_blank(),\n",
    "  legend.position=\"none\"\n",
    ") +\n",
    "xlab(\"\")"
   ]
  },
  {
   "cell_type": "markdown",
   "id": "6b4b7d1d",
   "metadata": {},
   "source": [
    "## 参考\n",
    "\n",
    "+ [MIND THE RADIAL BAR CHARTS](https://www.data-to-viz.com/caveat/circular_barplot_accordeon.html)\n",
    "+ [problems-barc-charts](https://www.visualisingdata.com/2017/09/problems-barc-charts/)"
   ]
  }
 ],
 "metadata": {
  "kernelspec": {
   "display_name": "R",
   "language": "R",
   "name": "ir"
  },
  "language_info": {
   "codemirror_mode": "r",
   "file_extension": ".r",
   "mimetype": "text/x-r-source",
   "name": "R",
   "pygments_lexer": "r",
   "version": "3.6.0"
  }
 },
 "nbformat": 4,
 "nbformat_minor": 5
}
