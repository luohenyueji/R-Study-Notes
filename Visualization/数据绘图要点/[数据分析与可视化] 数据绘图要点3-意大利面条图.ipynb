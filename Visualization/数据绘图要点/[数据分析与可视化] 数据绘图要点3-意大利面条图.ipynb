{
 "cells": [
  {
   "cell_type": "markdown",
   "id": "42b9248e",
   "metadata": {},
   "source": [
    "# 数据绘图要点3-意大利面条图\n",
    "\n",
    "线条太多的折线图通常变的不可读，这种图一般被称为意大利面条图。因此这种图几乎无法提供有关数据的信息。"
   ]
  },
  {
   "cell_type": "markdown",
   "id": "365a8d74",
   "metadata": {},
   "source": [
    "## 绘图实例\n",
    "\n",
    "让我们以美国从1880年到2015年女性婴儿名字的演变为例。"
   ]
  },
  {
   "cell_type": "code",
   "execution_count": 11,
   "id": "facbbcf9",
   "metadata": {},
   "outputs": [],
   "source": [
    "# Libraries\n",
    "library(tidyverse)\n",
    "library(hrbrthemes)\n",
    "library(kableExtra)\n",
    "library(babynames)\n",
    "library(viridis)\n",
    "library(DT)\n",
    "library(plotly)"
   ]
  },
  {
   "cell_type": "code",
   "execution_count": 12,
   "id": "91083661",
   "metadata": {},
   "outputs": [
    {
     "data": {
      "text/html": [
       "<table class=\"dataframe\">\n",
       "<caption>A tibble: 6 × 5</caption>\n",
       "<thead>\n",
       "\t<tr><th scope=col>year</th><th scope=col>sex</th><th scope=col>name</th><th scope=col>n</th><th scope=col>prop</th></tr>\n",
       "\t<tr><th scope=col>&lt;dbl&gt;</th><th scope=col>&lt;chr&gt;</th><th scope=col>&lt;chr&gt;</th><th scope=col>&lt;int&gt;</th><th scope=col>&lt;dbl&gt;</th></tr>\n",
       "</thead>\n",
       "<tbody>\n",
       "\t<tr><td>1880</td><td>F</td><td>Mary     </td><td>7065</td><td>0.07238359</td></tr>\n",
       "\t<tr><td>1880</td><td>F</td><td>Anna     </td><td>2604</td><td>0.02667896</td></tr>\n",
       "\t<tr><td>1880</td><td>F</td><td>Emma     </td><td>2003</td><td>0.02052149</td></tr>\n",
       "\t<tr><td>1880</td><td>F</td><td>Elizabeth</td><td>1939</td><td>0.01986579</td></tr>\n",
       "\t<tr><td>1880</td><td>F</td><td>Minnie   </td><td>1746</td><td>0.01788843</td></tr>\n",
       "\t<tr><td>1880</td><td>F</td><td>Margaret </td><td>1578</td><td>0.01616720</td></tr>\n",
       "</tbody>\n",
       "</table>\n"
      ],
      "text/latex": [
       "A tibble: 6 × 5\n",
       "\\begin{tabular}{lllll}\n",
       " year & sex & name & n & prop\\\\\n",
       " <dbl> & <chr> & <chr> & <int> & <dbl>\\\\\n",
       "\\hline\n",
       "\t 1880 & F & Mary      & 7065 & 0.07238359\\\\\n",
       "\t 1880 & F & Anna      & 2604 & 0.02667896\\\\\n",
       "\t 1880 & F & Emma      & 2003 & 0.02052149\\\\\n",
       "\t 1880 & F & Elizabeth & 1939 & 0.01986579\\\\\n",
       "\t 1880 & F & Minnie    & 1746 & 0.01788843\\\\\n",
       "\t 1880 & F & Margaret  & 1578 & 0.01616720\\\\\n",
       "\\end{tabular}\n"
      ],
      "text/markdown": [
       "\n",
       "A tibble: 6 × 5\n",
       "\n",
       "| year &lt;dbl&gt; | sex &lt;chr&gt; | name &lt;chr&gt; | n &lt;int&gt; | prop &lt;dbl&gt; |\n",
       "|---|---|---|---|---|\n",
       "| 1880 | F | Mary      | 7065 | 0.07238359 |\n",
       "| 1880 | F | Anna      | 2604 | 0.02667896 |\n",
       "| 1880 | F | Emma      | 2003 | 0.02052149 |\n",
       "| 1880 | F | Elizabeth | 1939 | 0.01986579 |\n",
       "| 1880 | F | Minnie    | 1746 | 0.01788843 |\n",
       "| 1880 | F | Margaret  | 1578 | 0.01616720 |\n",
       "\n"
      ],
      "text/plain": [
       "  year sex name      n    prop      \n",
       "1 1880 F   Mary      7065 0.07238359\n",
       "2 1880 F   Anna      2604 0.02667896\n",
       "3 1880 F   Emma      2003 0.02052149\n",
       "4 1880 F   Elizabeth 1939 0.01986579\n",
       "5 1880 F   Minnie    1746 0.01788843\n",
       "6 1880 F   Margaret  1578 0.01616720"
      ]
     },
     "metadata": {},
     "output_type": "display_data"
    },
    {
     "data": {
      "text/html": [
       "1924665"
      ],
      "text/latex": [
       "1924665"
      ],
      "text/markdown": [
       "1924665"
      ],
      "text/plain": [
       "[1] 1924665"
      ]
     },
     "metadata": {},
     "output_type": "display_data"
    }
   ],
   "source": [
    "# 展示数据\n",
    "data <- babynames\n",
    "head(data)\n",
    "nrow(data)"
   ]
  },
  {
   "cell_type": "code",
   "execution_count": 13,
   "id": "84544fd0",
   "metadata": {},
   "outputs": [
    {
     "data": {
      "text/html": [
       "<table class=\"dataframe\">\n",
       "<caption>A tibble: 6 × 5</caption>\n",
       "<thead>\n",
       "\t<tr><th scope=col>year</th><th scope=col>sex</th><th scope=col>name</th><th scope=col>n</th><th scope=col>prop</th></tr>\n",
       "\t<tr><th scope=col>&lt;dbl&gt;</th><th scope=col>&lt;chr&gt;</th><th scope=col>&lt;chr&gt;</th><th scope=col>&lt;int&gt;</th><th scope=col>&lt;dbl&gt;</th></tr>\n",
       "</thead>\n",
       "<tbody>\n",
       "\t<tr><td>1880</td><td>F</td><td>Mary  </td><td>7065</td><td>0.07238359</td></tr>\n",
       "\t<tr><td>1880</td><td>F</td><td>Emma  </td><td>2003</td><td>0.02052149</td></tr>\n",
       "\t<tr><td>1880</td><td>F</td><td>Ida   </td><td>1472</td><td>0.01508119</td></tr>\n",
       "\t<tr><td>1880</td><td>F</td><td>Helen </td><td> 636</td><td>0.00651606</td></tr>\n",
       "\t<tr><td>1880</td><td>F</td><td>Amanda</td><td> 241</td><td>0.00246914</td></tr>\n",
       "\t<tr><td>1880</td><td>F</td><td>Betty </td><td> 117</td><td>0.00119871</td></tr>\n",
       "</tbody>\n",
       "</table>\n"
      ],
      "text/latex": [
       "A tibble: 6 × 5\n",
       "\\begin{tabular}{lllll}\n",
       " year & sex & name & n & prop\\\\\n",
       " <dbl> & <chr> & <chr> & <int> & <dbl>\\\\\n",
       "\\hline\n",
       "\t 1880 & F & Mary   & 7065 & 0.07238359\\\\\n",
       "\t 1880 & F & Emma   & 2003 & 0.02052149\\\\\n",
       "\t 1880 & F & Ida    & 1472 & 0.01508119\\\\\n",
       "\t 1880 & F & Helen  &  636 & 0.00651606\\\\\n",
       "\t 1880 & F & Amanda &  241 & 0.00246914\\\\\n",
       "\t 1880 & F & Betty  &  117 & 0.00119871\\\\\n",
       "\\end{tabular}\n"
      ],
      "text/markdown": [
       "\n",
       "A tibble: 6 × 5\n",
       "\n",
       "| year &lt;dbl&gt; | sex &lt;chr&gt; | name &lt;chr&gt; | n &lt;int&gt; | prop &lt;dbl&gt; |\n",
       "|---|---|---|---|---|\n",
       "| 1880 | F | Mary   | 7065 | 0.07238359 |\n",
       "| 1880 | F | Emma   | 2003 | 0.02052149 |\n",
       "| 1880 | F | Ida    | 1472 | 0.01508119 |\n",
       "| 1880 | F | Helen  |  636 | 0.00651606 |\n",
       "| 1880 | F | Amanda |  241 | 0.00246914 |\n",
       "| 1880 | F | Betty  |  117 | 0.00119871 |\n",
       "\n"
      ],
      "text/plain": [
       "  year sex name   n    prop      \n",
       "1 1880 F   Mary   7065 0.07238359\n",
       "2 1880 F   Emma   2003 0.02052149\n",
       "3 1880 F   Ida    1472 0.01508119\n",
       "4 1880 F   Helen   636 0.00651606\n",
       "5 1880 F   Amanda  241 0.00246914\n",
       "6 1880 F   Betty   117 0.00119871"
      ]
     },
     "metadata": {},
     "output_type": "display_data"
    },
    {
     "data": {
      "text/html": [
       "2599"
      ],
      "text/latex": [
       "2599"
      ],
      "text/markdown": [
       "2599"
      ],
      "text/plain": [
       "[1] 2599"
      ]
     },
     "metadata": {},
     "output_type": "display_data"
    }
   ],
   "source": [
    "# 挑选某些姓名的数据\n",
    "data = filter(data,name %in% c(\"Mary\",\"Emma\", \"Ida\", \"Ashley\", \"Amanda\", \"Jessica\", \"Patricia\", \"Linda\", \"Deborah\",   \"Dorothy\", \"Betty\", \"Helen\"))\n",
    "head(data)\n",
    "nrow(data)"
   ]
  },
  {
   "cell_type": "code",
   "execution_count": 14,
   "id": "394e3c09",
   "metadata": {},
   "outputs": [
    {
     "data": {
      "text/html": [
       "<table class=\"dataframe\">\n",
       "<caption>A tibble: 6 × 5</caption>\n",
       "<thead>\n",
       "\t<tr><th scope=col>year</th><th scope=col>sex</th><th scope=col>name</th><th scope=col>n</th><th scope=col>prop</th></tr>\n",
       "\t<tr><th scope=col>&lt;dbl&gt;</th><th scope=col>&lt;chr&gt;</th><th scope=col>&lt;chr&gt;</th><th scope=col>&lt;int&gt;</th><th scope=col>&lt;dbl&gt;</th></tr>\n",
       "</thead>\n",
       "<tbody>\n",
       "\t<tr><td>1880</td><td>F</td><td>Mary  </td><td>7065</td><td>0.07238359</td></tr>\n",
       "\t<tr><td>1880</td><td>F</td><td>Emma  </td><td>2003</td><td>0.02052149</td></tr>\n",
       "\t<tr><td>1880</td><td>F</td><td>Ida   </td><td>1472</td><td>0.01508119</td></tr>\n",
       "\t<tr><td>1880</td><td>F</td><td>Helen </td><td> 636</td><td>0.00651606</td></tr>\n",
       "\t<tr><td>1880</td><td>F</td><td>Amanda</td><td> 241</td><td>0.00246914</td></tr>\n",
       "\t<tr><td>1880</td><td>F</td><td>Betty </td><td> 117</td><td>0.00119871</td></tr>\n",
       "</tbody>\n",
       "</table>\n"
      ],
      "text/latex": [
       "A tibble: 6 × 5\n",
       "\\begin{tabular}{lllll}\n",
       " year & sex & name & n & prop\\\\\n",
       " <dbl> & <chr> & <chr> & <int> & <dbl>\\\\\n",
       "\\hline\n",
       "\t 1880 & F & Mary   & 7065 & 0.07238359\\\\\n",
       "\t 1880 & F & Emma   & 2003 & 0.02052149\\\\\n",
       "\t 1880 & F & Ida    & 1472 & 0.01508119\\\\\n",
       "\t 1880 & F & Helen  &  636 & 0.00651606\\\\\n",
       "\t 1880 & F & Amanda &  241 & 0.00246914\\\\\n",
       "\t 1880 & F & Betty  &  117 & 0.00119871\\\\\n",
       "\\end{tabular}\n"
      ],
      "text/markdown": [
       "\n",
       "A tibble: 6 × 5\n",
       "\n",
       "| year &lt;dbl&gt; | sex &lt;chr&gt; | name &lt;chr&gt; | n &lt;int&gt; | prop &lt;dbl&gt; |\n",
       "|---|---|---|---|---|\n",
       "| 1880 | F | Mary   | 7065 | 0.07238359 |\n",
       "| 1880 | F | Emma   | 2003 | 0.02052149 |\n",
       "| 1880 | F | Ida    | 1472 | 0.01508119 |\n",
       "| 1880 | F | Helen  |  636 | 0.00651606 |\n",
       "| 1880 | F | Amanda |  241 | 0.00246914 |\n",
       "| 1880 | F | Betty  |  117 | 0.00119871 |\n",
       "\n"
      ],
      "text/plain": [
       "  year sex name   n    prop      \n",
       "1 1880 F   Mary   7065 0.07238359\n",
       "2 1880 F   Emma   2003 0.02052149\n",
       "3 1880 F   Ida    1472 0.01508119\n",
       "4 1880 F   Helen   636 0.00651606\n",
       "5 1880 F   Amanda  241 0.00246914\n",
       "6 1880 F   Betty   117 0.00119871"
      ]
     },
     "metadata": {},
     "output_type": "display_data"
    },
    {
     "data": {
      "text/html": [
       "1593"
      ],
      "text/latex": [
       "1593"
      ],
      "text/markdown": [
       "1593"
      ],
      "text/plain": [
       "[1] 1593"
      ]
     },
     "metadata": {},
     "output_type": "display_data"
    }
   ],
   "source": [
    "# 只要女性数据\n",
    "data= filter(data,sex==\"F\")\n",
    "head(data)\n",
    "nrow(data)"
   ]
  },
  {
   "cell_type": "code",
   "execution_count": 15,
   "id": "b58e36bc",
   "metadata": {},
   "outputs": [
    {
     "data": {
      "image/png": "[encoded data removed]",
      "text/plain": [
       "plot without title"
      ]
     },
     "metadata": {
      "image/png": {
       "height": 420,
       "width": 420
      }
     },
     "output_type": "display_data"
    }
   ],
   "source": [
    "# 绘图\n",
    "ggplot(data,aes(x=year, y=n, group=name, color=name)) +\n",
    "geom_line() +\n",
    "scale_color_viridis(discrete = TRUE) +\n",
    "theme(\n",
    "  plot.title = element_text(size=14)\n",
    ") +\n",
    "ggtitle(\"A spaghetti chart of baby names popularity\")"
   ]
  },
  {
   "cell_type": "markdown",
   "id": "c6613c23",
   "metadata": {},
   "source": [
    "从图中看到很难按照一条线来理解特定名称受欢迎程度的演变。另外，即使您设法遵循一条线显示结果，您也需要将其与更难的图例联系起来。让我们尝试找到一些解决方法来改进此图形。"
   ]
  },
  {
   "cell_type": "markdown",
   "id": "e74adb1d",
   "metadata": {},
   "source": [
    "## 改进方法"
   ]
  },
  {
   "cell_type": "markdown",
   "id": "1814955b",
   "metadata": {},
   "source": [
    "### 针对特定群体\n",
    "\n",
    " 假设您绘制了许多组，但实际原因是为了解释一个特定组与其他组相比的特征。然后一个好的解决方法是突出显示这个组：让它看起来不同，并给它一个适当的注释。在这里，Amanda的人气演变是显而易见的。保留其他名称很重要，因为它允许您将 Amanda 与所有其他名称进行比较"
   ]
  },
  {
   "cell_type": "code",
   "execution_count": 16,
   "id": "5e8f287a",
   "metadata": {},
   "outputs": [
    {
     "data": {
      "text/html": [
       "<table class=\"dataframe\">\n",
       "<caption>A tibble: 6 × 6</caption>\n",
       "<thead>\n",
       "\t<tr><th scope=col>year</th><th scope=col>sex</th><th scope=col>name</th><th scope=col>n</th><th scope=col>prop</th><th scope=col>highlight</th></tr>\n",
       "\t<tr><th scope=col>&lt;dbl&gt;</th><th scope=col>&lt;chr&gt;</th><th scope=col>&lt;chr&gt;</th><th scope=col>&lt;int&gt;</th><th scope=col>&lt;dbl&gt;</th><th scope=col>&lt;chr&gt;</th></tr>\n",
       "</thead>\n",
       "<tbody>\n",
       "\t<tr><td>1880</td><td>F</td><td>Mary  </td><td>7065</td><td>0.07238359</td><td>Other </td></tr>\n",
       "\t<tr><td>1880</td><td>F</td><td>Emma  </td><td>2003</td><td>0.02052149</td><td>Other </td></tr>\n",
       "\t<tr><td>1880</td><td>F</td><td>Ida   </td><td>1472</td><td>0.01508119</td><td>Other </td></tr>\n",
       "\t<tr><td>1880</td><td>F</td><td>Helen </td><td> 636</td><td>0.00651606</td><td>Other </td></tr>\n",
       "\t<tr><td>1880</td><td>F</td><td>Amanda</td><td> 241</td><td>0.00246914</td><td>Amanda</td></tr>\n",
       "\t<tr><td>1880</td><td>F</td><td>Betty </td><td> 117</td><td>0.00119871</td><td>Other </td></tr>\n",
       "</tbody>\n",
       "</table>\n"
      ],
      "text/latex": [
       "A tibble: 6 × 6\n",
       "\\begin{tabular}{llllll}\n",
       " year & sex & name & n & prop & highlight\\\\\n",
       " <dbl> & <chr> & <chr> & <int> & <dbl> & <chr>\\\\\n",
       "\\hline\n",
       "\t 1880 & F & Mary   & 7065 & 0.07238359 & Other \\\\\n",
       "\t 1880 & F & Emma   & 2003 & 0.02052149 & Other \\\\\n",
       "\t 1880 & F & Ida    & 1472 & 0.01508119 & Other \\\\\n",
       "\t 1880 & F & Helen  &  636 & 0.00651606 & Other \\\\\n",
       "\t 1880 & F & Amanda &  241 & 0.00246914 & Amanda\\\\\n",
       "\t 1880 & F & Betty  &  117 & 0.00119871 & Other \\\\\n",
       "\\end{tabular}\n"
      ],
      "text/markdown": [
       "\n",
       "A tibble: 6 × 6\n",
       "\n",
       "| year &lt;dbl&gt; | sex &lt;chr&gt; | name &lt;chr&gt; | n &lt;int&gt; | prop &lt;dbl&gt; | highlight &lt;chr&gt; |\n",
       "|---|---|---|---|---|---|\n",
       "| 1880 | F | Mary   | 7065 | 0.07238359 | Other  |\n",
       "| 1880 | F | Emma   | 2003 | 0.02052149 | Other  |\n",
       "| 1880 | F | Ida    | 1472 | 0.01508119 | Other  |\n",
       "| 1880 | F | Helen  |  636 | 0.00651606 | Other  |\n",
       "| 1880 | F | Amanda |  241 | 0.00246914 | Amanda |\n",
       "| 1880 | F | Betty  |  117 | 0.00119871 | Other  |\n",
       "\n"
      ],
      "text/plain": [
       "  year sex name   n    prop       highlight\n",
       "1 1880 F   Mary   7065 0.07238359 Other    \n",
       "2 1880 F   Emma   2003 0.02052149 Other    \n",
       "3 1880 F   Ida    1472 0.01508119 Other    \n",
       "4 1880 F   Helen   636 0.00651606 Other    \n",
       "5 1880 F   Amanda  241 0.00246914 Amanda   \n",
       "6 1880 F   Betty   117 0.00119871 Other    "
      ]
     },
     "metadata": {},
     "output_type": "display_data"
    }
   ],
   "source": [
    "# 添加数据项\n",
    "data =  mutate( data, highlight=ifelse(name==\"Amanda\", \"Amanda\", \"Other\"))\n",
    "head(data)"
   ]
  },
  {
   "cell_type": "code",
   "execution_count": 17,
   "id": "ea70ff66",
   "metadata": {},
   "outputs": [
    {
     "data": {
      "image/png": "[encoded data removed]",
      "text/plain": [
       "plot without title"
      ]
     },
     "metadata": {
      "image/png": {
       "height": 420,
       "width": 420
      }
     },
     "output_type": "display_data"
    }
   ],
   "source": [
    "ggplot(data,aes(x=year, y=n, group=name, color=highlight, size=highlight)) +\n",
    "geom_line() +\n",
    "scale_color_manual(values = c(\"#69b3a2\", \"lightgrey\")) +\n",
    "scale_size_manual(values=c(1.5,0.2)) +\n",
    "theme(legend.position=\"none\") +\n",
    "ggtitle(\"Popularity of American names in the previous 30 years\") +\n",
    "geom_label( x=1990, y=55000, label=\"Amanda reached 3550\\nbabies in 1970\", size=4, color=\"#69b3a2\") +\n",
    "theme(,\n",
    "  plot.title = element_text(size=14)\n",
    ")"
   ]
  },
  {
   "cell_type": "markdown",
   "id": "a126af11",
   "metadata": {},
   "source": [
    "### 使用子图\n",
    "\n",
    "面积图可用于对数据集进行更全面的概述，尤其是与子图结合使用时。在下面的图表中，可以很容易地瞥见任何名称的演变情况：\n",
    "\n"
   ]
  },
  {
   "cell_type": "code",
   "execution_count": 18,
   "id": "a6c13f53",
   "metadata": {},
   "outputs": [
    {
     "data": {
      "image/png": "[encoded data removed]",
      "text/plain": [
       "plot without title"
      ]
     },
     "metadata": {
      "image/png": {
       "height": 420,
       "width": 420
      }
     },
     "output_type": "display_data"
    }
   ],
   "source": [
    "ggplot(data,aes(x=year, y=n, group=name, fill=name)) +\n",
    "geom_area() +\n",
    "scale_fill_viridis(discrete = TRUE) +\n",
    "theme(legend.position=\"none\") +\n",
    "ggtitle(\"Popularity of American names in the previous 30 years\") +\n",
    "theme(\n",
    "  panel.spacing = unit(0.1, \"lines\"),\n",
    "  strip.text.x = element_text(size = 8),\n",
    "  plot.title = element_text(size=14)\n",
    ") +\n",
    "# 按名字分图\n",
    "facet_wrap(~name)"
   ]
  },
  {
   "cell_type": "markdown",
   "id": "1b25bbd2",
   "metadata": {},
   "source": [
    "从图上可以看到，Linda这个名字在很短的时间内是一个非常受欢迎的名字。另一方面，Ida 从来都不是很受欢迎，在几十年中较少被使用。"
   ]
  },
  {
   "cell_type": "markdown",
   "id": "d623dade",
   "metadata": {},
   "source": [
    "### 组合方法\n",
    "\n",
    "如果您想比较每条线与其他线的演变情况，您可以将针对特定群体和使用子图结合起来"
   ]
  },
  {
   "cell_type": "code",
   "execution_count": 19,
   "id": "37366111",
   "metadata": {},
   "outputs": [
    {
     "data": {
      "text/html": [
       "<table class=\"dataframe\">\n",
       "<caption>A tibble: 6 × 7</caption>\n",
       "<thead>\n",
       "\t<tr><th scope=col>year</th><th scope=col>sex</th><th scope=col>name</th><th scope=col>n</th><th scope=col>prop</th><th scope=col>highlight</th><th scope=col>name2</th></tr>\n",
       "\t<tr><th scope=col>&lt;dbl&gt;</th><th scope=col>&lt;chr&gt;</th><th scope=col>&lt;chr&gt;</th><th scope=col>&lt;int&gt;</th><th scope=col>&lt;dbl&gt;</th><th scope=col>&lt;chr&gt;</th><th scope=col>&lt;chr&gt;</th></tr>\n",
       "</thead>\n",
       "<tbody>\n",
       "\t<tr><td>1880</td><td>F</td><td>Mary  </td><td>7065</td><td>0.07238359</td><td>Other </td><td>Mary  </td></tr>\n",
       "\t<tr><td>1880</td><td>F</td><td>Emma  </td><td>2003</td><td>0.02052149</td><td>Other </td><td>Emma  </td></tr>\n",
       "\t<tr><td>1880</td><td>F</td><td>Ida   </td><td>1472</td><td>0.01508119</td><td>Other </td><td>Ida   </td></tr>\n",
       "\t<tr><td>1880</td><td>F</td><td>Helen </td><td> 636</td><td>0.00651606</td><td>Other </td><td>Helen </td></tr>\n",
       "\t<tr><td>1880</td><td>F</td><td>Amanda</td><td> 241</td><td>0.00246914</td><td>Amanda</td><td>Amanda</td></tr>\n",
       "\t<tr><td>1880</td><td>F</td><td>Betty </td><td> 117</td><td>0.00119871</td><td>Other </td><td>Betty </td></tr>\n",
       "</tbody>\n",
       "</table>\n"
      ],
      "text/latex": [
       "A tibble: 6 × 7\n",
       "\\begin{tabular}{lllllll}\n",
       " year & sex & name & n & prop & highlight & name2\\\\\n",
       " <dbl> & <chr> & <chr> & <int> & <dbl> & <chr> & <chr>\\\\\n",
       "\\hline\n",
       "\t 1880 & F & Mary   & 7065 & 0.07238359 & Other  & Mary  \\\\\n",
       "\t 1880 & F & Emma   & 2003 & 0.02052149 & Other  & Emma  \\\\\n",
       "\t 1880 & F & Ida    & 1472 & 0.01508119 & Other  & Ida   \\\\\n",
       "\t 1880 & F & Helen  &  636 & 0.00651606 & Other  & Helen \\\\\n",
       "\t 1880 & F & Amanda &  241 & 0.00246914 & Amanda & Amanda\\\\\n",
       "\t 1880 & F & Betty  &  117 & 0.00119871 & Other  & Betty \\\\\n",
       "\\end{tabular}\n"
      ],
      "text/markdown": [
       "\n",
       "A tibble: 6 × 7\n",
       "\n",
       "| year &lt;dbl&gt; | sex &lt;chr&gt; | name &lt;chr&gt; | n &lt;int&gt; | prop &lt;dbl&gt; | highlight &lt;chr&gt; | name2 &lt;chr&gt; |\n",
       "|---|---|---|---|---|---|---|\n",
       "| 1880 | F | Mary   | 7065 | 0.07238359 | Other  | Mary   |\n",
       "| 1880 | F | Emma   | 2003 | 0.02052149 | Other  | Emma   |\n",
       "| 1880 | F | Ida    | 1472 | 0.01508119 | Other  | Ida    |\n",
       "| 1880 | F | Helen  |  636 | 0.00651606 | Other  | Helen  |\n",
       "| 1880 | F | Amanda |  241 | 0.00246914 | Amanda | Amanda |\n",
       "| 1880 | F | Betty  |  117 | 0.00119871 | Other  | Betty  |\n",
       "\n"
      ],
      "text/plain": [
       "  year sex name   n    prop       highlight name2 \n",
       "1 1880 F   Mary   7065 0.07238359 Other     Mary  \n",
       "2 1880 F   Emma   2003 0.02052149 Other     Emma  \n",
       "3 1880 F   Ida    1472 0.01508119 Other     Ida   \n",
       "4 1880 F   Helen   636 0.00651606 Other     Helen \n",
       "5 1880 F   Amanda  241 0.00246914 Amanda    Amanda\n",
       "6 1880 F   Betty   117 0.00119871 Other     Betty "
      ]
     },
     "metadata": {},
     "output_type": "display_data"
    }
   ],
   "source": [
    "# 复制列，name/name2分别有不同用处，一个用于显示子图中的数据，一个用于分列\n",
    "tmp <- data %>%\n",
    "  mutate(name2=name)\n",
    "head(tmp)"
   ]
  },
  {
   "cell_type": "code",
   "execution_count": 20,
   "id": "ee2b1f65",
   "metadata": {},
   "outputs": [
    {
     "data": {
      "image/png": "[encoded data removed]",
      "text/plain": [
       "plot without title"
      ]
     },
     "metadata": {
      "image/png": {
       "height": 420,
       "width": 420
      }
     },
     "output_type": "display_data"
    }
   ],
   "source": [
    "tmp %>%\n",
    "ggplot( aes(x=year, y=n)) +\n",
    "# 用name2显示数据\n",
    "geom_line( data=tmp %>% dplyr::select(-name), aes(group=name2), color=\"grey\", size=0.5, alpha=0.5) +\n",
    "geom_line( aes(color=name), color=\"#69b3a2\", size=1.2 )+\n",
    "scale_color_viridis(discrete = TRUE) +\n",
    "theme(\n",
    "  legend.position=\"none\",\n",
    "  plot.title = element_text(size=14),\n",
    "  panel.grid = element_blank()\n",
    ") +\n",
    "ggtitle(\"A spaghetti chart of baby names popularity\") +\n",
    "# 用name分图\n",
    "facet_wrap(~name)"
   ]
  },
  {
   "cell_type": "markdown",
   "id": "a21fcf3c",
   "metadata": {},
   "source": [
    "## 参考\n",
    "\n",
    "+ [THE SPAGHETTI PLOT](https://www.data-to-viz.com/caveat/spaghetti.html)"
   ]
  }
 ],
 "metadata": {
  "kernelspec": {
   "display_name": "R",
   "language": "R",
   "name": "ir"
  },
  "language_info": {
   "codemirror_mode": "r",
   "file_extension": ".r",
   "mimetype": "text/x-r-source",
   "name": "R",
   "pygments_lexer": "r",
   "version": "3.6.0"
  }
 },
 "nbformat": 4,
 "nbformat_minor": 5
}
